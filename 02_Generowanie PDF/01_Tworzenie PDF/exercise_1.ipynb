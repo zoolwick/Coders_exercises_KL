{
 "cells": [
  {
   "cell_type": "markdown",
   "id": "national-prospect",
   "metadata": {},
   "source": [
    "Za pomocą biblioteki `reportlab` wygeneruj PDF z tabliczką mnożenia liczb od 0 do 10 włącznie. Pogrubionym fontem wypisz nagłówki wierszy i kolumn - czynniki, natomiast iloczyny wypisz bez pogrubienia.\n",
    "\n",
    "Podpowiedź: stwórz zagnieżdżone pętle **for**: zewnętrzna ze zmienną `x` oraz wewnętrzna ze zmienną `y` (albo odwrotnie, jeśli wolisz). Użyj tych zmiennych zarówno do obliczenia wyników mnożenia, jak i do obliczenia gdzie na stronie ta liczba ma się pojawić."
   ]
  },
  {
   "cell_type": "code",
   "execution_count": null,
   "id": "dynamic-location",
   "metadata": {},
   "outputs": [],
   "source": [
    "# zaraz zrobimy to zadanie w koncu mam nadzieje"
   ]
  }
 ],
 "metadata": {
  "kernelspec": {
   "display_name": "Python 3",
   "language": "python",
   "name": "python3"
  },
  "language_info": {
   "codemirror_mode": {
    "name": "ipython",
    "version": 3
   },
   "file_extension": ".py",
   "mimetype": "text/x-python",
   "name": "python",
   "nbconvert_exporter": "python",
   "pygments_lexer": "ipython3",
   "version": "3.8.5"
  }
 },
 "nbformat": 4,
 "nbformat_minor": 5
}
